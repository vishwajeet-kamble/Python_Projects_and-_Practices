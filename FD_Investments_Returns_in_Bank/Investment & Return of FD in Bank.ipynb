{
 "cells": [
  {
   "cell_type": "markdown",
   "id": "95cf0758",
   "metadata": {},
   "source": [
    "# Calculating Investment and Returns for FD in bank"
   ]
  },
  {
   "cell_type": "markdown",
   "id": "31b57d58",
   "metadata": {},
   "source": [
    "- Investment is **Rs. 5000 1st month** and after that every month **Rs. 100 will be decrement from before investment** till 60 months.</br>\n",
    "- After completing 60 months/ 5 years we will get rs 10000 every month till 60th month. "
   ]
  },
  {
   "cell_type": "code",
   "execution_count": 1,
   "id": "10c61c0f",
   "metadata": {},
   "outputs": [],
   "source": [
    "# Importing all necessary Libaries\n",
    "\n",
    "import matplotlib.pyplot as plt\n",
    "import numpy as np\n",
    "import pandas as pd"
   ]
  },
  {
   "cell_type": "code",
   "execution_count": 2,
   "id": "24009917",
   "metadata": {},
   "outputs": [],
   "source": [
    "# For loop to get Investment \n",
    "\n",
    "Months = []\n",
    "Investments = []\n",
    "for i in range(0,60):\n",
    "    \n",
    "    Months.append(i+1)                     # will give us month list\n",
    "    \n",
    "    investment = 5000-100*i\n",
    "    if investment >= 0:\n",
    "        Investments.append(investment)\n",
    "    else:\n",
    "        investment = '0'\n",
    "        \n",
    "        Investments.extend(investment)     # will give us investments list"
   ]
  },
  {
   "cell_type": "code",
   "execution_count": 3,
   "id": "e2d61803",
   "metadata": {},
   "outputs": [
    {
     "name": "stdout",
     "output_type": "stream",
     "text": [
      "[5000, 4900, 4800, 4700, 4600, 4500, 4400, 4300, 4200, 4100, 4000, 3900, 3800, 3700, 3600, 3500, 3400, 3300, 3200, 3100, 3000, 2900, 2800, 2700, 2600, 2500, 2400, 2300, 2200, 2100, 2000, 1900, 1800, 1700, 1600, 1500, 1400, 1300, 1200, 1100, 1000, 900, 800, 700, 600, 500, 400, 300, 200, 100, 0, '0', '0', '0', '0', '0', '0', '0', '0', '0']\n"
     ]
    }
   ],
   "source": [
    "# here we are getting b last 10 months as string 0 so we need to convert it in integer\n",
    "\n",
    "print(Investments)   "
   ]
  },
  {
   "cell_type": "code",
   "execution_count": 4,
   "id": "8828769c",
   "metadata": {},
   "outputs": [
    {
     "name": "stdout",
     "output_type": "stream",
     "text": [
      "60 \n",
      "\n",
      "[5000, 4900, 4800, 4700, 4600, 4500, 4400, 4300, 4200, 4100, 4000, 3900, 3800, 3700, 3600, 3500, 3400, 3300, 3200, 3100, 3000, 2900, 2800, 2700, 2600, 2500, 2400, 2300, 2200, 2100, 2000, 1900, 1800, 1700, 1600, 1500, 1400, 1300, 1200, 1100, 1000, 900, 800, 700, 600, 500, 400, 300, 200, 100, 0, 0, 0, 0, 0, 0, 0, 0, 0, 0] \n",
      "\n",
      "Total Investment:  127500\n"
     ]
    }
   ],
   "source": [
    "# changing string value of b in integer in c list\n",
    "\n",
    "# Investments = [int(x) for x in Investments]\n",
    "\n",
    "Investment = []\n",
    "for i in Investments:\n",
    "    Investment.append(int(i))\n",
    "    \n",
    "print(len(Investment),'\\n')\n",
    "\n",
    "# Investment list for 60 months\n",
    "print(Investment,'\\n')\n",
    "\n",
    "\n",
    "# Total Investment \n",
    "print('Total Investment: ',sum(Investment))"
   ]
  },
  {
   "cell_type": "code",
   "execution_count": 5,
   "id": "5871cf76",
   "metadata": {},
   "outputs": [
    {
     "name": "stdout",
     "output_type": "stream",
     "text": [
      "60 \n",
      "\n",
      "[10000, 10000, 10000, 10000, 10000, 10000, 10000, 10000, 10000, 10000, 10000, 10000, 10000, 10000, 10000, 10000, 10000, 10000, 10000, 10000, 10000, 10000, 10000, 10000, 10000, 10000, 10000, 10000, 10000, 10000, 10000, 10000, 10000, 10000, 10000, 10000, 10000, 10000, 10000, 10000, 10000, 10000, 10000, 10000, 10000, 10000, 10000, 10000, 10000, 10000, 10000, 10000, 10000, 10000, 10000, 10000, 10000, 10000, 10000, 10000] \n",
      "\n",
      "Total Returns:  600000\n"
     ]
    }
   ],
   "source": [
    "# Returns\n",
    "\n",
    "Returns = []\n",
    "for i in range(1,61):\n",
    "    i = 10000\n",
    "    Returns.append(i)\n",
    "    \n",
    "print(len(Returns),'\\n')\n",
    "\n",
    "print(Returns,'\\n')\n",
    "\n",
    "# Sum of Returns\n",
    "print('Total Returns: ',sum(Returns))"
   ]
  },
  {
   "cell_type": "code",
   "execution_count": 6,
   "id": "76fdf14e",
   "metadata": {},
   "outputs": [
    {
     "name": "stdout",
     "output_type": "stream",
     "text": [
      "[1, 2, 3, 4, 5, 6, 7, 8, 9, 10, 11, 12, 13, 14, 15, 16, 17, 18, 19, 20, 21, 22, 23, 24, 25, 26, 27, 28, 29, 30, 31, 32, 33, 34, 35, 36, 37, 38, 39, 40, 41, 42, 43, 44, 45, 46, 47, 48, 49, 50, 51, 52, 53, 54, 55, 56, 57, 58, 59, 60] \n",
      "\n",
      "Total months:  60\n"
     ]
    }
   ],
   "source": [
    "# Months\n",
    "\n",
    "print(Months,'\\n')\n",
    "\n",
    "print('Total months: ', len(Months))"
   ]
  },
  {
   "cell_type": "code",
   "execution_count": 7,
   "id": "b700e34e",
   "metadata": {},
   "outputs": [
    {
     "name": "stdout",
     "output_type": "stream",
     "text": [
      "{1: 5000, 2: 4900, 3: 4800, 4: 4700, 5: 4600, 6: 4500, 7: 4400, 8: 4300, 9: 4200, 10: 4100, 11: 4000, 12: 3900, 13: 3800, 14: 3700, 15: 3600, 16: 3500, 17: 3400, 18: 3300, 19: 3200, 20: 3100, 21: 3000, 22: 2900, 23: 2800, 24: 2700, 25: 2600, 26: 2500, 27: 2400, 28: 2300, 29: 2200, 30: 2100, 31: 2000, 32: 1900, 33: 1800, 34: 1700, 35: 1600, 36: 1500, 37: 1400, 38: 1300, 39: 1200, 40: 1100, 41: 1000, 42: 900, 43: 800, 44: 700, 45: 600, 46: 500, 47: 400, 48: 300, 49: 200, 50: 100, 51: 0, 52: 0, 53: 0, 54: 0, 55: 0, 56: 0, 57: 0, 58: 0, 59: 0, 60: 0}\n"
     ]
    }
   ],
   "source": [
    "# Dictionary of Investment to each month till 5 years\n",
    "# Keys = Months, Values = Investments \n",
    "\n",
    "\n",
    "Dict_Details = dict(zip(Months,Investment))\n",
    "\n",
    "print(Dict_Details)"
   ]
  },
  {
   "cell_type": "code",
   "execution_count": null,
   "id": "63970a9d",
   "metadata": {},
   "outputs": [],
   "source": []
  },
  {
   "cell_type": "markdown",
   "id": "4821f4b0",
   "metadata": {},
   "source": [
    "## Converting above Data to Excel File"
   ]
  },
  {
   "cell_type": "code",
   "execution_count": 8,
   "id": "7980c408",
   "metadata": {},
   "outputs": [],
   "source": [
    "# List of Months, Investement and Returns\n",
    "\n",
    "Months = ['month 1', 'month 2', 'month 3', 'month 4', 'month 5', 'month 6', 'month 7', 'month 8', 'month 9', 'month 10', \n",
    "          'month 11', 'month 12', 'month 13', 'month 14', 'month 15', 'month 16', 'month 17', 'month 18', 'month 19', 'month 20', \n",
    "          'month 21', 'month 22', 'month 23', 'month 24', 'month 25', 'month 26', 'month 27', 'month 28', 'month 29', 'month 30', \n",
    "          'month 31', 'month 32', 'month 33', 'month 34', 'month 35', 'month 36', 'month 37', 'month 38', 'month 39', 'month 40', \n",
    "          'month 41', 'month 42', 'month 43', 'month 44', 'month 45', 'month 46', 'month 47', 'month 48', 'month 49', 'month 50', \n",
    "          'month 51', 'month 52', 'month 53', 'month 54', 'month 55', 'month 56', 'month 57', 'month 58', 'month 59', 'month 60']\n",
    "\n",
    "Investment = [5000, 4900, 4800, 4700, 4600, 4500, 4400, 4300, 4200, 4100, \n",
    "              4000, 3900, 3800, 3700, 3600, 3500, 3400, 3300, 3200, 3100, \n",
    "              3000, 2900, 2800, 2700, 2600, 2500, 2400, 2300, 2200, 2100, \n",
    "              2000, 1900, 1800, 1700, 1600, 1500, 1400, 1300, 1200, 1100, \n",
    "              1000, 900, 800, 700, 600, 500, 400, 300, 200, 100, \n",
    "              0, 0, 0, 0, 0, 0, 0, 0, 0, 0]\n",
    "\n",
    "Returns = [10000, 10000, 10000, 10000, 10000, 10000, 10000, 10000, 10000, 10000, \n",
    "           10000, 10000, 10000, 10000, 10000, 10000, 10000, 10000, 10000, 10000, \n",
    "           10000, 10000, 10000, 10000, 10000, 10000, 10000, 10000, 10000, 10000, \n",
    "           10000, 10000, 10000, 10000, 10000, 10000, 10000, 10000, 10000, 10000, \n",
    "           10000, 10000, 10000, 10000, 10000, 10000, 10000, 10000, 10000, 10000, \n",
    "           10000, 10000, 10000, 10000, 10000, 10000, 10000, 10000, 10000, 10000]\n"
   ]
  },
  {
   "cell_type": "code",
   "execution_count": 9,
   "id": "6f710838",
   "metadata": {},
   "outputs": [
    {
     "name": "stdout",
     "output_type": "stream",
     "text": [
      "{'Months': ['month 1', 'month 2', 'month 3', 'month 4', 'month 5', 'month 6', 'month 7', 'month 8', 'month 9', 'month 10', 'month 11', 'month 12', 'month 13', 'month 14', 'month 15', 'month 16', 'month 17', 'month 18', 'month 19', 'month 20', 'month 21', 'month 22', 'month 23', 'month 24', 'month 25', 'month 26', 'month 27', 'month 28', 'month 29', 'month 30', 'month 31', 'month 32', 'month 33', 'month 34', 'month 35', 'month 36', 'month 37', 'month 38', 'month 39', 'month 40', 'month 41', 'month 42', 'month 43', 'month 44', 'month 45', 'month 46', 'month 47', 'month 48', 'month 49', 'month 50', 'month 51', 'month 52', 'month 53', 'month 54', 'month 55', 'month 56', 'month 57', 'month 58', 'month 59', 'month 60'], 'Investment': [5000, 4900, 4800, 4700, 4600, 4500, 4400, 4300, 4200, 4100, 4000, 3900, 3800, 3700, 3600, 3500, 3400, 3300, 3200, 3100, 3000, 2900, 2800, 2700, 2600, 2500, 2400, 2300, 2200, 2100, 2000, 1900, 1800, 1700, 1600, 1500, 1400, 1300, 1200, 1100, 1000, 900, 800, 700, 600, 500, 400, 300, 200, 100, 0, 0, 0, 0, 0, 0, 0, 0, 0, 0], 'Returns': [10000, 10000, 10000, 10000, 10000, 10000, 10000, 10000, 10000, 10000, 10000, 10000, 10000, 10000, 10000, 10000, 10000, 10000, 10000, 10000, 10000, 10000, 10000, 10000, 10000, 10000, 10000, 10000, 10000, 10000, 10000, 10000, 10000, 10000, 10000, 10000, 10000, 10000, 10000, 10000, 10000, 10000, 10000, 10000, 10000, 10000, 10000, 10000, 10000, 10000, 10000, 10000, 10000, 10000, 10000, 10000, 10000, 10000, 10000, 10000]}\n"
     ]
    }
   ],
   "source": [
    "# Converting Lists to Dictionary \n",
    "\n",
    "Dict_FD_details  = {'Months':Months,'Investment':Investment,'Returns':Returns}\n",
    "print(Dict_FD_details)"
   ]
  },
  {
   "cell_type": "code",
   "execution_count": 10,
   "id": "fc94964f",
   "metadata": {},
   "outputs": [
    {
     "name": "stdout",
     "output_type": "stream",
     "text": [
      "          Investment  Returns\n",
      "Months                       \n",
      "month 1         5000    10000\n",
      "month 2         4900    10000\n",
      "month 3         4800    10000\n",
      "month 4         4700    10000\n",
      "month 5         4600    10000\n",
      "month 6         4500    10000\n",
      "month 7         4400    10000\n",
      "month 8         4300    10000\n",
      "month 9         4200    10000\n",
      "month 10        4100    10000\n",
      "month 11        4000    10000\n",
      "\n",
      "           Investment  Returns\n",
      "Months                       \n",
      "month 50         100    10000\n",
      "month 51           0    10000\n",
      "month 52           0    10000\n",
      "month 53           0    10000\n",
      "month 54           0    10000\n",
      "month 55           0    10000\n",
      "month 56           0    10000\n",
      "month 57           0    10000\n",
      "month 58           0    10000\n",
      "month 59           0    10000\n",
      "month 60           0    10000\n"
     ]
    }
   ],
   "source": [
    "# Converting Dictionary to DataFrame\n",
    "\n",
    "FD_details = pd.DataFrame(Dict_FD_details)\n",
    "\n",
    "# Making 1st Column 'Months' as Index\n",
    "FD_details = FD_details.set_index('Months')\n",
    "\n",
    "# head() Print the first 5 rows of the DataFrame\n",
    "print(FD_details.head(11))\n",
    "\n",
    "# tail() Print the last 5 rows of the DataFrame\n",
    "print('\\n',FD_details.tail(11))"
   ]
  },
  {
   "cell_type": "code",
   "execution_count": 11,
   "id": "5e617aa2",
   "metadata": {},
   "outputs": [
    {
     "name": "stdout",
     "output_type": "stream",
     "text": [
      "<class 'pandas.core.frame.DataFrame'>\n",
      "Index: 60 entries, month 1 to month 60\n",
      "Data columns (total 2 columns):\n",
      " #   Column      Non-Null Count  Dtype\n",
      "---  ------      --------------  -----\n",
      " 0   Investment  60 non-null     int64\n",
      " 1   Returns     60 non-null     int64\n",
      "dtypes: int64(2)\n",
      "memory usage: 1.4+ KB\n",
      "None \n",
      "\n",
      "        Investment  Returns\n",
      "count    60.000000     60.0\n",
      "mean   2125.000000  10000.0\n",
      "std    1638.066761      0.0\n",
      "min       0.000000  10000.0\n",
      "25%     575.000000  10000.0\n",
      "50%    2050.000000  10000.0\n",
      "75%    3525.000000  10000.0\n",
      "max    5000.000000  10000.0\n"
     ]
    }
   ],
   "source": [
    "# Print the information of the DataFrame\n",
    "\n",
    "print(FD_details.info(),'\\n')\n",
    "\n",
    "print(FD_details.describe())"
   ]
  },
  {
   "cell_type": "code",
   "execution_count": 12,
   "id": "03c74abb",
   "metadata": {},
   "outputs": [],
   "source": [
    "# Converting DataFrame to Excel \n",
    "\n",
    "FD_details.to_excel('FD_details.xlsx')"
   ]
  },
  {
   "cell_type": "code",
   "execution_count": 24,
   "id": "2fe229a9",
   "metadata": {},
   "outputs": [
    {
     "data": {
      "text/html": [
       "<div>\n",
       "<style scoped>\n",
       "    .dataframe tbody tr th:only-of-type {\n",
       "        vertical-align: middle;\n",
       "    }\n",
       "\n",
       "    .dataframe tbody tr th {\n",
       "        vertical-align: top;\n",
       "    }\n",
       "\n",
       "    .dataframe thead th {\n",
       "        text-align: right;\n",
       "    }\n",
       "</style>\n",
       "<table border=\"1\" class=\"dataframe\">\n",
       "  <thead>\n",
       "    <tr style=\"text-align: right;\">\n",
       "      <th></th>\n",
       "      <th>Investment</th>\n",
       "      <th>Returns</th>\n",
       "    </tr>\n",
       "    <tr>\n",
       "      <th>Months</th>\n",
       "      <th></th>\n",
       "      <th></th>\n",
       "    </tr>\n",
       "  </thead>\n",
       "  <tbody>\n",
       "    <tr>\n",
       "      <th>month 1</th>\n",
       "      <td>5000</td>\n",
       "      <td>10000</td>\n",
       "    </tr>\n",
       "    <tr>\n",
       "      <th>month 2</th>\n",
       "      <td>4900</td>\n",
       "      <td>10000</td>\n",
       "    </tr>\n",
       "    <tr>\n",
       "      <th>month 3</th>\n",
       "      <td>4800</td>\n",
       "      <td>10000</td>\n",
       "    </tr>\n",
       "    <tr>\n",
       "      <th>month 4</th>\n",
       "      <td>4700</td>\n",
       "      <td>10000</td>\n",
       "    </tr>\n",
       "    <tr>\n",
       "      <th>month 5</th>\n",
       "      <td>4600</td>\n",
       "      <td>10000</td>\n",
       "    </tr>\n",
       "    <tr>\n",
       "      <th>month 6</th>\n",
       "      <td>4500</td>\n",
       "      <td>10000</td>\n",
       "    </tr>\n",
       "    <tr>\n",
       "      <th>month 7</th>\n",
       "      <td>4400</td>\n",
       "      <td>10000</td>\n",
       "    </tr>\n",
       "    <tr>\n",
       "      <th>month 8</th>\n",
       "      <td>4300</td>\n",
       "      <td>10000</td>\n",
       "    </tr>\n",
       "    <tr>\n",
       "      <th>month 9</th>\n",
       "      <td>4200</td>\n",
       "      <td>10000</td>\n",
       "    </tr>\n",
       "    <tr>\n",
       "      <th>month 10</th>\n",
       "      <td>4100</td>\n",
       "      <td>10000</td>\n",
       "    </tr>\n",
       "    <tr>\n",
       "      <th>month 11</th>\n",
       "      <td>4000</td>\n",
       "      <td>10000</td>\n",
       "    </tr>\n",
       "    <tr>\n",
       "      <th>month 12</th>\n",
       "      <td>3900</td>\n",
       "      <td>10000</td>\n",
       "    </tr>\n",
       "    <tr>\n",
       "      <th>month 13</th>\n",
       "      <td>3800</td>\n",
       "      <td>10000</td>\n",
       "    </tr>\n",
       "    <tr>\n",
       "      <th>month 14</th>\n",
       "      <td>3700</td>\n",
       "      <td>10000</td>\n",
       "    </tr>\n",
       "    <tr>\n",
       "      <th>month 15</th>\n",
       "      <td>3600</td>\n",
       "      <td>10000</td>\n",
       "    </tr>\n",
       "    <tr>\n",
       "      <th>month 16</th>\n",
       "      <td>3500</td>\n",
       "      <td>10000</td>\n",
       "    </tr>\n",
       "    <tr>\n",
       "      <th>month 17</th>\n",
       "      <td>3400</td>\n",
       "      <td>10000</td>\n",
       "    </tr>\n",
       "    <tr>\n",
       "      <th>month 18</th>\n",
       "      <td>3300</td>\n",
       "      <td>10000</td>\n",
       "    </tr>\n",
       "    <tr>\n",
       "      <th>month 19</th>\n",
       "      <td>3200</td>\n",
       "      <td>10000</td>\n",
       "    </tr>\n",
       "    <tr>\n",
       "      <th>month 20</th>\n",
       "      <td>3100</td>\n",
       "      <td>10000</td>\n",
       "    </tr>\n",
       "    <tr>\n",
       "      <th>month 21</th>\n",
       "      <td>3000</td>\n",
       "      <td>10000</td>\n",
       "    </tr>\n",
       "    <tr>\n",
       "      <th>month 22</th>\n",
       "      <td>2900</td>\n",
       "      <td>10000</td>\n",
       "    </tr>\n",
       "    <tr>\n",
       "      <th>month 23</th>\n",
       "      <td>2800</td>\n",
       "      <td>10000</td>\n",
       "    </tr>\n",
       "    <tr>\n",
       "      <th>month 24</th>\n",
       "      <td>2700</td>\n",
       "      <td>10000</td>\n",
       "    </tr>\n",
       "    <tr>\n",
       "      <th>month 25</th>\n",
       "      <td>2600</td>\n",
       "      <td>10000</td>\n",
       "    </tr>\n",
       "    <tr>\n",
       "      <th>month 26</th>\n",
       "      <td>2500</td>\n",
       "      <td>10000</td>\n",
       "    </tr>\n",
       "    <tr>\n",
       "      <th>month 27</th>\n",
       "      <td>2400</td>\n",
       "      <td>10000</td>\n",
       "    </tr>\n",
       "    <tr>\n",
       "      <th>month 28</th>\n",
       "      <td>2300</td>\n",
       "      <td>10000</td>\n",
       "    </tr>\n",
       "    <tr>\n",
       "      <th>month 29</th>\n",
       "      <td>2200</td>\n",
       "      <td>10000</td>\n",
       "    </tr>\n",
       "    <tr>\n",
       "      <th>month 30</th>\n",
       "      <td>2100</td>\n",
       "      <td>10000</td>\n",
       "    </tr>\n",
       "    <tr>\n",
       "      <th>month 31</th>\n",
       "      <td>2000</td>\n",
       "      <td>10000</td>\n",
       "    </tr>\n",
       "    <tr>\n",
       "      <th>month 32</th>\n",
       "      <td>1900</td>\n",
       "      <td>10000</td>\n",
       "    </tr>\n",
       "    <tr>\n",
       "      <th>month 33</th>\n",
       "      <td>1800</td>\n",
       "      <td>10000</td>\n",
       "    </tr>\n",
       "    <tr>\n",
       "      <th>month 34</th>\n",
       "      <td>1700</td>\n",
       "      <td>10000</td>\n",
       "    </tr>\n",
       "    <tr>\n",
       "      <th>month 35</th>\n",
       "      <td>1600</td>\n",
       "      <td>10000</td>\n",
       "    </tr>\n",
       "    <tr>\n",
       "      <th>month 36</th>\n",
       "      <td>1500</td>\n",
       "      <td>10000</td>\n",
       "    </tr>\n",
       "    <tr>\n",
       "      <th>month 37</th>\n",
       "      <td>1400</td>\n",
       "      <td>10000</td>\n",
       "    </tr>\n",
       "    <tr>\n",
       "      <th>month 38</th>\n",
       "      <td>1300</td>\n",
       "      <td>10000</td>\n",
       "    </tr>\n",
       "    <tr>\n",
       "      <th>month 39</th>\n",
       "      <td>1200</td>\n",
       "      <td>10000</td>\n",
       "    </tr>\n",
       "    <tr>\n",
       "      <th>month 40</th>\n",
       "      <td>1100</td>\n",
       "      <td>10000</td>\n",
       "    </tr>\n",
       "    <tr>\n",
       "      <th>month 41</th>\n",
       "      <td>1000</td>\n",
       "      <td>10000</td>\n",
       "    </tr>\n",
       "    <tr>\n",
       "      <th>month 42</th>\n",
       "      <td>900</td>\n",
       "      <td>10000</td>\n",
       "    </tr>\n",
       "    <tr>\n",
       "      <th>month 43</th>\n",
       "      <td>800</td>\n",
       "      <td>10000</td>\n",
       "    </tr>\n",
       "    <tr>\n",
       "      <th>month 44</th>\n",
       "      <td>700</td>\n",
       "      <td>10000</td>\n",
       "    </tr>\n",
       "    <tr>\n",
       "      <th>month 45</th>\n",
       "      <td>600</td>\n",
       "      <td>10000</td>\n",
       "    </tr>\n",
       "    <tr>\n",
       "      <th>month 46</th>\n",
       "      <td>500</td>\n",
       "      <td>10000</td>\n",
       "    </tr>\n",
       "    <tr>\n",
       "      <th>month 47</th>\n",
       "      <td>400</td>\n",
       "      <td>10000</td>\n",
       "    </tr>\n",
       "    <tr>\n",
       "      <th>month 48</th>\n",
       "      <td>300</td>\n",
       "      <td>10000</td>\n",
       "    </tr>\n",
       "    <tr>\n",
       "      <th>month 49</th>\n",
       "      <td>200</td>\n",
       "      <td>10000</td>\n",
       "    </tr>\n",
       "    <tr>\n",
       "      <th>month 50</th>\n",
       "      <td>100</td>\n",
       "      <td>10000</td>\n",
       "    </tr>\n",
       "    <tr>\n",
       "      <th>month 51</th>\n",
       "      <td>0</td>\n",
       "      <td>10000</td>\n",
       "    </tr>\n",
       "    <tr>\n",
       "      <th>month 52</th>\n",
       "      <td>0</td>\n",
       "      <td>10000</td>\n",
       "    </tr>\n",
       "    <tr>\n",
       "      <th>month 53</th>\n",
       "      <td>0</td>\n",
       "      <td>10000</td>\n",
       "    </tr>\n",
       "    <tr>\n",
       "      <th>month 54</th>\n",
       "      <td>0</td>\n",
       "      <td>10000</td>\n",
       "    </tr>\n",
       "    <tr>\n",
       "      <th>month 55</th>\n",
       "      <td>0</td>\n",
       "      <td>10000</td>\n",
       "    </tr>\n",
       "    <tr>\n",
       "      <th>month 56</th>\n",
       "      <td>0</td>\n",
       "      <td>10000</td>\n",
       "    </tr>\n",
       "    <tr>\n",
       "      <th>month 57</th>\n",
       "      <td>0</td>\n",
       "      <td>10000</td>\n",
       "    </tr>\n",
       "    <tr>\n",
       "      <th>month 58</th>\n",
       "      <td>0</td>\n",
       "      <td>10000</td>\n",
       "    </tr>\n",
       "    <tr>\n",
       "      <th>month 59</th>\n",
       "      <td>0</td>\n",
       "      <td>10000</td>\n",
       "    </tr>\n",
       "    <tr>\n",
       "      <th>month 60</th>\n",
       "      <td>0</td>\n",
       "      <td>10000</td>\n",
       "    </tr>\n",
       "  </tbody>\n",
       "</table>\n",
       "</div>"
      ],
      "text/plain": [
       "          Investment  Returns\n",
       "Months                       \n",
       "month 1         5000    10000\n",
       "month 2         4900    10000\n",
       "month 3         4800    10000\n",
       "month 4         4700    10000\n",
       "month 5         4600    10000\n",
       "month 6         4500    10000\n",
       "month 7         4400    10000\n",
       "month 8         4300    10000\n",
       "month 9         4200    10000\n",
       "month 10        4100    10000\n",
       "month 11        4000    10000\n",
       "month 12        3900    10000\n",
       "month 13        3800    10000\n",
       "month 14        3700    10000\n",
       "month 15        3600    10000\n",
       "month 16        3500    10000\n",
       "month 17        3400    10000\n",
       "month 18        3300    10000\n",
       "month 19        3200    10000\n",
       "month 20        3100    10000\n",
       "month 21        3000    10000\n",
       "month 22        2900    10000\n",
       "month 23        2800    10000\n",
       "month 24        2700    10000\n",
       "month 25        2600    10000\n",
       "month 26        2500    10000\n",
       "month 27        2400    10000\n",
       "month 28        2300    10000\n",
       "month 29        2200    10000\n",
       "month 30        2100    10000\n",
       "month 31        2000    10000\n",
       "month 32        1900    10000\n",
       "month 33        1800    10000\n",
       "month 34        1700    10000\n",
       "month 35        1600    10000\n",
       "month 36        1500    10000\n",
       "month 37        1400    10000\n",
       "month 38        1300    10000\n",
       "month 39        1200    10000\n",
       "month 40        1100    10000\n",
       "month 41        1000    10000\n",
       "month 42         900    10000\n",
       "month 43         800    10000\n",
       "month 44         700    10000\n",
       "month 45         600    10000\n",
       "month 46         500    10000\n",
       "month 47         400    10000\n",
       "month 48         300    10000\n",
       "month 49         200    10000\n",
       "month 50         100    10000\n",
       "month 51           0    10000\n",
       "month 52           0    10000\n",
       "month 53           0    10000\n",
       "month 54           0    10000\n",
       "month 55           0    10000\n",
       "month 56           0    10000\n",
       "month 57           0    10000\n",
       "month 58           0    10000\n",
       "month 59           0    10000\n",
       "month 60           0    10000"
      ]
     },
     "execution_count": 24,
     "metadata": {},
     "output_type": "execute_result"
    }
   ],
   "source": [
    "# Read Excel File\n",
    "\n",
    "pd.read_excel('FD_details.xlsx',index_col = 0)  # index_col = 0 takes no extra index or remove extra index"
   ]
  },
  {
   "cell_type": "code",
   "execution_count": 28,
   "id": "55e88d51",
   "metadata": {},
   "outputs": [
    {
     "data": {
      "text/html": [
       "<div>\n",
       "<style scoped>\n",
       "    .dataframe tbody tr th:only-of-type {\n",
       "        vertical-align: middle;\n",
       "    }\n",
       "\n",
       "    .dataframe tbody tr th {\n",
       "        vertical-align: top;\n",
       "    }\n",
       "\n",
       "    .dataframe thead th {\n",
       "        text-align: right;\n",
       "    }\n",
       "</style>\n",
       "<table border=\"1\" class=\"dataframe\">\n",
       "  <thead>\n",
       "    <tr style=\"text-align: right;\">\n",
       "      <th>Months</th>\n",
       "      <th>month 1</th>\n",
       "      <th>month 2</th>\n",
       "      <th>month 3</th>\n",
       "      <th>month 4</th>\n",
       "      <th>month 5</th>\n",
       "      <th>month 6</th>\n",
       "      <th>month 7</th>\n",
       "      <th>month 8</th>\n",
       "      <th>month 9</th>\n",
       "      <th>month 10</th>\n",
       "      <th>...</th>\n",
       "      <th>month 51</th>\n",
       "      <th>month 52</th>\n",
       "      <th>month 53</th>\n",
       "      <th>month 54</th>\n",
       "      <th>month 55</th>\n",
       "      <th>month 56</th>\n",
       "      <th>month 57</th>\n",
       "      <th>month 58</th>\n",
       "      <th>month 59</th>\n",
       "      <th>month 60</th>\n",
       "    </tr>\n",
       "  </thead>\n",
       "  <tbody>\n",
       "    <tr>\n",
       "      <th>Investment</th>\n",
       "      <td>5000</td>\n",
       "      <td>4900</td>\n",
       "      <td>4800</td>\n",
       "      <td>4700</td>\n",
       "      <td>4600</td>\n",
       "      <td>4500</td>\n",
       "      <td>4400</td>\n",
       "      <td>4300</td>\n",
       "      <td>4200</td>\n",
       "      <td>4100</td>\n",
       "      <td>...</td>\n",
       "      <td>0</td>\n",
       "      <td>0</td>\n",
       "      <td>0</td>\n",
       "      <td>0</td>\n",
       "      <td>0</td>\n",
       "      <td>0</td>\n",
       "      <td>0</td>\n",
       "      <td>0</td>\n",
       "      <td>0</td>\n",
       "      <td>0</td>\n",
       "    </tr>\n",
       "    <tr>\n",
       "      <th>Returns</th>\n",
       "      <td>10000</td>\n",
       "      <td>10000</td>\n",
       "      <td>10000</td>\n",
       "      <td>10000</td>\n",
       "      <td>10000</td>\n",
       "      <td>10000</td>\n",
       "      <td>10000</td>\n",
       "      <td>10000</td>\n",
       "      <td>10000</td>\n",
       "      <td>10000</td>\n",
       "      <td>...</td>\n",
       "      <td>10000</td>\n",
       "      <td>10000</td>\n",
       "      <td>10000</td>\n",
       "      <td>10000</td>\n",
       "      <td>10000</td>\n",
       "      <td>10000</td>\n",
       "      <td>10000</td>\n",
       "      <td>10000</td>\n",
       "      <td>10000</td>\n",
       "      <td>10000</td>\n",
       "    </tr>\n",
       "  </tbody>\n",
       "</table>\n",
       "<p>2 rows × 60 columns</p>\n",
       "</div>"
      ],
      "text/plain": [
       "Months      month 1  month 2  month 3  month 4  month 5  month 6  month 7  \\\n",
       "Investment     5000     4900     4800     4700     4600     4500     4400   \n",
       "Returns       10000    10000    10000    10000    10000    10000    10000   \n",
       "\n",
       "Months      month 8  month 9  month 10  ...  month 51  month 52  month 53  \\\n",
       "Investment     4300     4200      4100  ...         0         0         0   \n",
       "Returns       10000    10000     10000  ...     10000     10000     10000   \n",
       "\n",
       "Months      month 54  month 55  month 56  month 57  month 58  month 59  \\\n",
       "Investment         0         0         0         0         0         0   \n",
       "Returns        10000     10000     10000     10000     10000     10000   \n",
       "\n",
       "Months      month 60  \n",
       "Investment         0  \n",
       "Returns        10000  \n",
       "\n",
       "[2 rows x 60 columns]"
      ]
     },
     "execution_count": 28,
     "metadata": {},
     "output_type": "execute_result"
    }
   ],
   "source": [
    "# Read E by using transposexcel File by using Transpose\n",
    "\n",
    "pd.read_excel('FD_details.xlsx',index_col = 0).T  # index_col = 0 takes no extra index or remove extra index"
   ]
  },
  {
   "cell_type": "code",
   "execution_count": 14,
   "id": "9f1b2606",
   "metadata": {},
   "outputs": [
    {
     "name": "stdout",
     "output_type": "stream",
     "text": [
      "\n",
      " Total Investment of 5 years -  127500 \n",
      "\n",
      "\n",
      " Total Returns of 5 years -  600000\n"
     ]
    }
   ],
   "source": [
    "# Total Investment of 5 years\n",
    "print('\\n','Total Investment of 5 years - ',sum(Investment),'\\n')\n",
    "\n",
    "# Total Returns of 5 years\n",
    "print('\\n','Total Returns of 5 years - ',sum(Returns))"
   ]
  },
  {
   "cell_type": "code",
   "execution_count": 15,
   "id": "9cc672e6",
   "metadata": {},
   "outputs": [
    {
     "name": "stdout",
     "output_type": "stream",
     "text": [
      "\n",
      " 4.705882352941177\n"
     ]
    }
   ],
   "source": [
    "# we are getting 4.70 times of investments in Returns\n",
    "\n",
    "print('\\n',(sum(Returns)/sum(Investment)))"
   ]
  },
  {
   "cell_type": "markdown",
   "id": "0ce63dcf",
   "metadata": {},
   "source": [
    "## Bar Chart\n",
    "### Plotting bar chart having montly Invest and Returns for 5 years"
   ]
  },
  {
   "cell_type": "code",
   "execution_count": 29,
   "id": "1d663e8e",
   "metadata": {},
   "outputs": [],
   "source": [
    "# List of Months, Investement and Returns\n",
    "\n",
    "Months = ['month 1', 'month 2', 'month 3', 'month 4', 'month 5', 'month 6', 'month 7', 'month 8', 'month 9', 'month 10', \n",
    "          'month 11', 'month 12', 'month 13', 'month 14', 'month 15', 'month 16', 'month 17', 'month 18', 'month 19', 'month 20', \n",
    "          'month 21', 'month 22', 'month 23', 'month 24', 'month 25', 'month 26', 'month 27', 'month 28', 'month 29', 'month 30', \n",
    "          'month 31', 'month 32', 'month 33', 'month 34', 'month 35', 'month 36', 'month 37', 'month 38', 'month 39', 'month 40', \n",
    "          'month 41', 'month 42', 'month 43', 'month 44', 'month 45', 'month 46', 'month 47', 'month 48', 'month 49', 'month 50', \n",
    "          'month 51', 'month 52', 'month 53', 'month 54', 'month 55', 'month 56', 'month 57', 'month 58', 'month 59', 'month 60']\n",
    "\n",
    "Investment = [5000, 4900, 4800, 4700, 4600, 4500, 4400, 4300, 4200, 4100, \n",
    "              4000, 3900, 3800, 3700, 3600, 3500, 3400, 3300, 3200, 3100, \n",
    "              3000, 2900, 2800, 2700, 2600, 2500, 2400, 2300, 2200, 2100, \n",
    "              2000, 1900, 1800, 1700, 1600, 1500, 1400, 1300, 1200, 1100, \n",
    "              1000, 900, 800, 700, 600, 500, 400, 300, 200, 100, \n",
    "              0, 0, 0, 0, 0, 0, 0, 0, 0, 0]\n",
    "\n",
    "Returns = [10000, 10000, 10000, 10000, 10000, 10000, 10000, 10000, 10000, 10000, \n",
    "           10000, 10000, 10000, 10000, 10000, 10000, 10000, 10000, 10000, 10000, \n",
    "           10000, 10000, 10000, 10000, 10000, 10000, 10000, 10000, 10000, 10000, \n",
    "           10000, 10000, 10000, 10000, 10000, 10000, 10000, 10000, 10000, 10000, \n",
    "           10000, 10000, 10000, 10000, 10000, 10000, 10000, 10000, 10000, 10000, \n",
    "           10000, 10000, 10000, 10000, 10000, 10000, 10000, 10000, 10000, 10000]\n"
   ]
  },
  {
   "cell_type": "code",
   "execution_count": 30,
   "id": "b1157dee",
   "metadata": {},
   "outputs": [
    {
     "data": {
      "image/png": "[encoded data removed]",
      "text/plain": [
       "<Figure size 1440x432 with 1 Axes>"
      ]
     },
     "metadata": {
      "needs_background": "light"
     },
     "output_type": "display_data"
    }
   ],
   "source": [
    "\n",
    "plt.figure(figsize = [20,6])\n",
    "\n",
    "X_axis = np.arange(len(Months)) \n",
    "\n",
    "\n",
    "plt.bar(X_axis - 0.2, Investment, alpha = 0.7  ,label = 'Invest', width = 0.4)   # alpha use for lower transparency \n",
    "\n",
    "plt.bar(X_axis + 0.2, Returns, alpha = 0.7 , label = 'Return', width = 0.25)  # alpha use for lower transparency \n",
    "\n",
    "plt.xticks(X_axis, Months, color = 'red', fontsize = 14, rotation=90) \n",
    "plt.yticks(color = 'red',fontsize = 14)\n",
    "\n",
    "plt.xlabel(\"Months\", fontsize = 15) \n",
    "plt.ylabel(\"Rupees\", fontsize = 15)\n",
    "plt.title(\"Invest/Returns in Each Month\", fontsize = 20)\n",
    "\n",
    "plt.legend() \n",
    "plt.show()\n"
   ]
  },
  {
   "cell_type": "markdown",
   "id": "94d353b2",
   "metadata": {},
   "source": [
    "### OR"
   ]
  },
  {
   "cell_type": "code",
   "execution_count": 18,
   "id": "9a670437",
   "metadata": {},
   "outputs": [
    {
     "data": {
      "image/png": "[encoded data removed]",
      "text/plain": [
       "<Figure size 1440x432 with 1 Axes>"
      ]
     },
     "metadata": {
      "needs_background": "light"
     },
     "output_type": "display_data"
    }
   ],
   "source": [
    "\n",
    "plt.figure(figsize = [20,6])\n",
    "\n",
    "\n",
    "n=60\n",
    "r = np.arange(n)\n",
    "width = 0.25\n",
    "\n",
    "\n",
    "plt.bar(r, Investment, color = 'b',\n",
    "        width = 0.4, edgecolor = 'black',\n",
    "        label='invest')\n",
    "plt.bar(r + width, Returns, color = 'orange',\n",
    "        width = 0.4, edgecolor = 'black',\n",
    "        label='return')\n",
    "\n",
    "plt.xlabel(\"months\", fontsize = 15)\n",
    "plt.ylabel(\"Rupees\", fontsize = 15)\n",
    "plt.title(\"Invest & Return\", fontsize = 20)\n",
    "\n",
    "# plt.grid(linestyle='--')\n",
    "plt.xticks(r + width/2, Months, color = 'Purple', fontsize = 12, rotation = 90)\n",
    "plt.yticks(color = 'r', fontsize = 12)\n",
    "\n",
    "plt.legend()\n",
    "plt.show()\n"
   ]
  },
  {
   "cell_type": "code",
   "execution_count": 19,
   "id": "e30ee93c",
   "metadata": {},
   "outputs": [
    {
     "data": {
      "image/png": "[encoded data removed]",
      "text/plain": [
       "<Figure size 576x360 with 1 Axes>"
      ]
     },
     "metadata": {
      "needs_background": "light"
     },
     "output_type": "display_data"
    }
   ],
   "source": [
    "# Total Investment & Returns\n",
    "\n",
    "plt.figure(figsize=[8, 5])\n",
    "\n",
    "# Creating a bar chart with bars of different color\n",
    "bar1 = plt.bar('Investment', sum(Investment), color = 'b',\n",
    "        width = 0.75, edgecolor = 'black',\n",
    "        label='Investment')\n",
    "bar2 = plt.bar('Returns', sum(Returns), color = 'g',\n",
    "        width = 0.75, edgecolor = 'black',\n",
    "        label='Returns')\n",
    "\n",
    "for bar in bar1:\n",
    "    yval = bar.get_height()\n",
    "    plt.text(bar.get_x(), yval + 6000, yval)\n",
    "\n",
    "for bar in bar2:\n",
    "    yval = bar.get_height()\n",
    "    plt.text(bar.get_x(), yval + 6000, yval)\n",
    "    \n",
    "plt.xlabel(\"Total Investment & Returns\", fontsize = 15)\n",
    "plt.ylabel(\"Rupees\", fontsize = 15)\n",
    "plt.title(\"Fixed Diposit\", fontsize = 15)\n",
    "plt.legend()\n",
    "plt.show()"
   ]
  },
  {
   "cell_type": "code",
   "execution_count": 20,
   "id": "9915ef24",
   "metadata": {
    "scrolled": true
   },
   "outputs": [
    {
     "data": {
      "image/png": "[encoded data removed]",
      "text/plain": [
       "<Figure size 576x360 with 1 Axes>"
      ]
     },
     "metadata": {
      "needs_background": "light"
     },
     "output_type": "display_data"
    }
   ],
   "source": [
    "r = np.arange(1)\n",
    "width = 0.25\n",
    "\n",
    "plt.figure(figsize=[8, 5])\n",
    "\n",
    "bar1 = plt.bar(r , sum(Investment), color = 'b',\n",
    "        width = 0.25, edgecolor = 'black',\n",
    "        label='Investment')\n",
    "bar2 = plt.bar(r + width, sum(Returns), color = 'g',\n",
    "        width = 0.25, edgecolor = 'black',\n",
    "        label='Returns')\n",
    "\n",
    "for bar in bar1:\n",
    "    yval = bar.get_height()\n",
    "    plt.text(bar.get_x(), yval + 6000, yval)\n",
    "\n",
    "for bar in bar2:\n",
    "    yval = bar.get_height()\n",
    "    plt.text(bar.get_x(), yval + 6000, yval)\n",
    "\n",
    "plt.xlabel(\"Total Investment & Returns\", fontsize = 15)\n",
    "plt.ylabel(\"Rupees\", fontsize = 15)\n",
    "plt.title(\"Fixed Diposit\", fontsize = 15)\n",
    "\n",
    "plt.legend()\n",
    "plt.show()"
   ]
  },
  {
   "cell_type": "markdown",
   "id": "5a723d28",
   "metadata": {},
   "source": [
    "## Pie Chart\n",
    "\n",
    "**Contains Sum of Investment and Sum of Returns**"
   ]
  },
  {
   "cell_type": "code",
   "execution_count": 21,
   "id": "fad8c9eb",
   "metadata": {},
   "outputs": [],
   "source": [
    "compare = [sum(Investment),sum(Returns)]\n",
    "my_labels = 'Investement','Returns'\n",
    "my_colors = ['lightblue','orange']\n",
    "my_explode = [0,0.1]"
   ]
  },
  {
   "cell_type": "code",
   "execution_count": 22,
   "id": "eca15ad0",
   "metadata": {
    "scrolled": true
   },
   "outputs": [
    {
     "data": {
      "image/png": "[encoded data removed]",
      "text/plain": [
       "<Figure size 360x360 with 1 Axes>"
      ]
     },
     "metadata": {},
     "output_type": "display_data"
    }
   ],
   "source": [
    "plt.subplots(figsize=(5,5))\n",
    "plt.pie(compare,labels=my_labels,autopct='%1.1f%%', shadow = True, explode = my_explode, \n",
    "        colors = my_colors, textprops={'fontsize': 16})\n",
    "plt.title('Investment VS Returns', fontsize = 20)\n",
    "plt.axis('equal')\n",
    "plt.show()"
   ]
  },
  {
   "cell_type": "code",
   "execution_count": null,
   "id": "6d4de990",
   "metadata": {},
   "outputs": [],
   "source": []
  }
 ],
 "metadata": {
  "kernelspec": {
   "display_name": "Python 3 (ipykernel)",
   "language": "python",
   "name": "python3"
  },
  "language_info": {
   "codemirror_mode": {
    "name": "ipython",
    "version": 3
   },
   "file_extension": ".py",
   "mimetype": "text/x-python",
   "name": "python",
   "nbconvert_exporter": "python",
   "pygments_lexer": "ipython3",
   "version": "3.9.7"
  }
 },
 "nbformat": 4,
 "nbformat_minor": 5
}
